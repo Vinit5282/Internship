{
 "cells": [
  {
   "cell_type": "markdown",
   "id": "15ceafe7",
   "metadata": {},
   "source": [
    "#    # Regex Expression Practice \n",
    "    "
   ]
  },
  {
   "cell_type": "code",
   "execution_count": 206,
   "id": "16326511",
   "metadata": {},
   "outputs": [],
   "source": [
    "import re\n",
    "import regex as re "
   ]
  },
  {
   "cell_type": "code",
   "execution_count": 195,
   "id": "d12b2468",
   "metadata": {},
   "outputs": [
    {
     "name": "stdout",
     "output_type": "stream",
     "text": [
      "['0132', '1458', '2725']\n"
     ]
    }
   ],
   "source": [
    "# Question-10 - Write a RegEx pattern in python program to find all words that are 4 digits long in a string.\n",
    "# Sample text- '01 0132 231875 1458 301 2725.'\n",
    "# Expected output- ['0132', '1458', '2725']\n",
    "\n",
    "pattern = r\"\\b\\d{4}\\b\"\n",
    "text = \" 01 0132 231875 1458 301 2725 \"\n",
    "matches = re.findall(pattern,text)\n",
    "print(matches)"
   ]
  },
  {
   "cell_type": "code",
   "execution_count": 196,
   "id": "0f2e6f13",
   "metadata": {},
   "outputs": [
    {
     "name": "stdout",
     "output_type": "stream",
     "text": [
      "<regex.Match object; span=(31, 43), match='Technologies'>\n"
     ]
    }
   ],
   "source": [
    "#  Question 9- Write a RegEx pattern in python program that matches a word at the end of a string.\n",
    "\n",
    "\n",
    "target_string=\"I am as an intern at Flip Robo Technologies\"\n",
    "pattern=r\"\\w+$\"\n",
    "print(re.search(pattern,target_string))\n"
   ]
  },
  {
   "cell_type": "code",
   "execution_count": 197,
   "id": "dce7a5d5",
   "metadata": {},
   "outputs": [
    {
     "name": "stdout",
     "output_type": "stream",
     "text": [
      "<regex.Match object; span=(0, 1), match='I'>\n"
     ]
    }
   ],
   "source": [
    "# Question 8- Write a RegEx pattern in python program that matches a word at the beginning of a string.\n",
    "\n",
    "\n",
    "target_string=\"I am as an intern at Flip Robo Technologies\"\n",
    "pattern=r\"^\\w+\"\n",
    "print(re.search(pattern,target_string))"
   ]
  },
  {
   "cell_type": "code",
   "execution_count": 198,
   "id": "d88c754e",
   "metadata": {},
   "outputs": [
    {
     "name": "stdout",
     "output_type": "stream",
     "text": [
      "<regex.Match object; span=(1, 7), match='Adverb'>\n"
     ]
    }
   ],
   "source": [
    "# Question 7- Write a Python program that matches a string that has an 'a' followed by anything, ending in 'b'.\n",
    "\n",
    "\n",
    "followed_string=\" Adverb is english word \"\n",
    "pattern=r\"A\\w+\\wb\"\n",
    "print(re.search(pattern,followed_string))\n",
    "\n"
   ]
  },
  {
   "cell_type": "code",
   "execution_count": 199,
   "id": "a7bb7892",
   "metadata": {},
   "outputs": [
    {
     "name": "stdout",
     "output_type": "stream",
     "text": [
      "<regex.Match object; span=(9, 15), match='bbbbbb'>\n"
     ]
    }
   ],
   "source": [
    "# Question 6- Write a RegEx pattern in python program that matches a string that has an a followed by two to three 'b'.\n",
    "\n",
    "followed_by_string=\" Honey b bbbbbb\"\n",
    "pattern=r\"b\\w+\"\n",
    "print(re.search(pattern,followed_by_string))"
   ]
  },
  {
   "cell_type": "code",
   "execution_count": 200,
   "id": "9d754a7a",
   "metadata": {},
   "outputs": [
    {
     "name": "stdout",
     "output_type": "stream",
     "text": [
      "<regex.Match object; span=(12, 15), match='bbb'>\n"
     ]
    }
   ],
   "source": [
    "# Question 5- Write a RegEx pattern in python program that matches a string that has an a followed by three 'b'.\n",
    "\n",
    "\n",
    "following_string=\" Honey b bb bbb \"\n",
    "pattern=r\"bb\\w+\"\n",
    "print(re.search(pattern,following_string))"
   ]
  },
  {
   "cell_type": "code",
   "execution_count": 201,
   "id": "b40f7f15",
   "metadata": {},
   "outputs": [
    {
     "name": "stdout",
     "output_type": "stream",
     "text": [
      "<regex.Match object; span=(15, 17), match='0 '>\n"
     ]
    }
   ],
   "source": [
    "# Question 4- Write a RegEx pattern that matches a string that has an a followed by zero or one 'b'.\n",
    "\n",
    "zero_string = \"Sprouts having 0 percent calorie and vitamin bbb\"\n",
    "pattern1=r\"0 | \\bb\"\n",
    "print(re.search(pattern1,zero_string))\n",
    "\n"
   ]
  },
  {
   "cell_type": "code",
   "execution_count": 202,
   "id": "ea2726a4",
   "metadata": {},
   "outputs": [
    {
     "name": "stdout",
     "output_type": "stream",
     "text": [
      "<regex.Match object; span=(7, 9), match='b '>\n"
     ]
    }
   ],
   "source": [
    "# Question 3-  Write a RegEx pattern that matches a string that has an a followed by one or more b's\n",
    "\n",
    "more_b_string=\" Honey b bb\"\n",
    "pattern=r\"b | b\\w+\"\n",
    "result = re.search(pattern,following_string)\n",
    "print(result)"
   ]
  },
  {
   "cell_type": "code",
   "execution_count": 203,
   "id": "f156c863",
   "metadata": {},
   "outputs": [
    {
     "name": "stdout",
     "output_type": "stream",
     "text": [
      "<regex.Match object; span=(45, 48), match='bbb'>\n"
     ]
    }
   ],
   "source": [
    "# Question 2- Write a RegEx pattern that matches a string that has an a followed by zero or more b's\n",
    "\n",
    "zero_string = \"Sprouts having 0 percent calorie and vitamin bbb\"\n",
    "pattern1=r\"\\bb\\w+\"\n",
    "print(re.search(pattern1,zero_string))"
   ]
  },
  {
   "cell_type": "code",
   "execution_count": 221,
   "id": "6054176e",
   "metadata": {},
   "outputs": [
    {
     "name": "stdout",
     "output_type": "stream",
     "text": [
      "('VINIT', ' is working as intern from ', 'pass', ' ', '9', ' ', 'days')\n"
     ]
    }
   ],
   "source": [
    "# Question 1- Write a RegEx pattern in python program to check that a string contains only a certain set of characters (in this case a-z, A-Z and 0-9).\n",
    "\n",
    "set_of_character= \"VINIT is working as intern from pass 9 days \"\n",
    "\n",
    "result_new = re.search(r\"(\\b[A-Z]+\\b)(.+)(\\b[a-z]+\\b)(.+)(\\b\\d+\\b)(.+)(\\b[a-z]+\\b)\",set_of_character)\n",
    "\n",
    "print(result_new.groups())"
   ]
  },
  {
   "cell_type": "code",
   "execution_count": null,
   "id": "9fb1286c",
   "metadata": {},
   "outputs": [],
   "source": []
  }
 ],
 "metadata": {
  "kernelspec": {
   "display_name": "Python 3 (ipykernel)",
   "language": "python",
   "name": "python3"
  },
  "language_info": {
   "codemirror_mode": {
    "name": "ipython",
    "version": 3
   },
   "file_extension": ".py",
   "mimetype": "text/x-python",
   "name": "python",
   "nbconvert_exporter": "python",
   "pygments_lexer": "ipython3",
   "version": "3.11.5"
  }
 },
 "nbformat": 4,
 "nbformat_minor": 5
}
