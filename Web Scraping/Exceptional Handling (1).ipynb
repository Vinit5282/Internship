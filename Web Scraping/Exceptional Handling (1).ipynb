{
 "cells": [
  {
   "cell_type": "code",
   "execution_count": null,
   "id": "349bc5b2",
   "metadata": {},
   "outputs": [],
   "source": [
    "from selenium import webdriver\n",
    "from selenium.webdriver.common.by import By\n",
    "from selenium.webdriver.common.keys import Keys\n",
    "import time\n",
    "import pandas as pd"
   ]
  },
  {
   "cell_type": "markdown",
   "id": "4c2e75c5",
   "metadata": {},
   "source": [
    "##  1. Write a python program which searches all the product under a particular product from www.amazon.in. The product to be searched will be taken as input from user. For e.g. If user input is ‘guitar’. Then search for \n",
    "guitars. \n",
    "##  2. In the above question, now scrape the following details of each product listed in first 3 pages of your search results and save it in a data frame and csv. In case if any product has less than 3 pages in search results then scrape all the products available under that product name. Details to be scraped are: \"Brand \n",
    "Name\", \"Name of the Product\", \"Price\", \"Return/Exchange\", \"Expected Delivery\", \"Availability\" and \n",
    "“Product URL”. In case, if any of the details are missing for any of the product then replace it by “-“. "
   ]
  },
  {
   "cell_type": "code",
   "execution_count": null,
   "id": "f21dc4b9",
   "metadata": {},
   "outputs": [],
   "source": [
    "def scrape_amazon(product_name):\n",
    "    driver = webdriver.Chrome()\n",
    "\n",
    "    driver.get(\"https://www.amazon.in\")\n",
    "\n",
    "    search_bar = driver.find_element(By.ID, \"twotabsearchtextbox\")\n",
    "    search_bar.clear()\n",
    "    search_bar.send_keys(product_name)\n",
    "    search_bar.send_keys(Keys.RETURN)\n",
    "\n",
    "    time.sleep(3)"
   ]
  },
  {
   "cell_type": "code",
   "execution_count": null,
   "id": "d2965550",
   "metadata": {},
   "outputs": [],
   "source": [
    "products = []\n",
    "\n",
    "    for page in range(1, 4):\n",
    "        print(f\"Scraping page {page}...\")\n",
    "        time.sleep(3)\n",
    "\n",
    "        product_elements = driver.find_elements(By.XPATH, \"//div[@data-component-type='s-search-result']\")\n",
    "\n",
    "        for product_element in product_elements:\n",
    "            try:\n",
    "                brand_name = product_element.find_element(By.XPATH, \".//h5/span\").text\n",
    "            except:\n",
    "                brand_name = \"-\"\n",
    "            \n",
    "            try:\n",
    "                product_name = product_element.find_element(By.XPATH, \".//h2/a/span\").text\n",
    "            except:\n",
    "                product_name = \"-\"\n",
    "            \n",
    "            try:\n",
    "                price = product_element.find_element(By.XPATH, \".//span[@class='a-price-whole']\").text\n",
    "            except:\n",
    "                price = \"-\"\n",
    "\n",
    "            try:\n",
    "                product_url = product_element.find_element(By.XPATH, \".//h2/a\").get_attribute(\"href\")\n",
    "            except:\n",
    "                product_url = \"-\"\n",
    "\n",
    "            if product_url != \"-\":\n",
    "                driver.get(product_url)\n",
    "                time.sleep(3)\n",
    "\n",
    "                try:\n",
    "                    return_exchange = driver.find_element(By.XPATH, \"//div[@id='RETURNS_POLICY']/span\").text\n",
    "                except:\n",
    "                    return_exchange = \"-\"\n",
    "                \n",
    "                try:\n",
    "                    expected_delivery = driver.find_element(By.XPATH, \"//div[@id='ddmDeliveryMessage']/b\").text\n",
    "                except:\n",
    "                    expected_delivery = \"-\"\n",
    "                \n",
    "                try:\n",
    "                    availability = driver.find_element(By.XPATH, \"//div[@id='availability']/span\").text\n",
    "                except:\n",
    "                    availability = \"-\"\n",
    "                \n",
    "                driver.back()\n",
    "                time.sleep(3)\n",
    "            else:\n",
    "                return_exchange = \"-\"\n",
    "                expected_delivery = \"-\"\n",
    "                availability = \"-\"\n",
    "\n",
    "            products.append({\n",
    "                'Brand Name': brand_name,\n",
    "                'Name of the Product': product_name,\n",
    "                'Price': price,\n",
    "                'Return/Exchange': return_exchange,\n",
    "                'Expected Delivery': expected_delivery,\n",
    "                'Availability': availability,\n",
    "                'Product URL': product_url\n",
    "            })\n",
    "\n",
    "        try:\n",
    "            next_page = driver.find_element(By.XPATH, \"//a[@class='s-pagination-item s-pagination-next']\")\n",
    "            next_page.click()\n",
    "        except:\n",
    "            print(\"No more pages available.\")\n",
    "            break\n"
   ]
  },
  {
   "cell_type": "code",
   "execution_count": null,
   "id": "00e94053",
   "metadata": {},
   "outputs": [],
   "source": [
    "driver.close()"
   ]
  },
  {
   "cell_type": "code",
   "execution_count": null,
   "id": "77e492bc",
   "metadata": {},
   "outputs": [],
   "source": [
    " df = pd.DataFrame(products)\n",
    "    df.to_csv(\"amazon_products.csv\", index=False)\n",
    "    print(\"Data saved to amazon_products.csv\")\n",
    "\n",
    "product_to_search = input(\"Enter the product to search: \")\n",
    "\n",
    "scrape_amazon(product_to_search)\n"
   ]
  },
  {
   "cell_type": "markdown",
   "id": "cc1db7e8",
   "metadata": {},
   "source": [
    "## 3. Write a python program to access the search bar and search button on images.google.com and scrape 10 images each for keywords ‘fruits’, ‘cars’ and ‘Machine Learning’, ‘Guitar’, ‘Cakes’. "
   ]
  },
  {
   "cell_type": "code",
   "execution_count": null,
   "id": "c14c2ed3",
   "metadata": {},
   "outputs": [],
   "source": []
  },
  {
   "cell_type": "code",
   "execution_count": null,
   "id": "a8aa70cb",
   "metadata": {},
   "outputs": [],
   "source": []
  },
  {
   "cell_type": "code",
   "execution_count": null,
   "id": "b2704baa",
   "metadata": {},
   "outputs": [],
   "source": []
  },
  {
   "cell_type": "code",
   "execution_count": null,
   "id": "68ce76e2",
   "metadata": {},
   "outputs": [],
   "source": []
  },
  {
   "cell_type": "markdown",
   "id": "9baf0615",
   "metadata": {},
   "source": [
    "## 4. Write a python program to search for a smartphone(e.g.: Oneplus Nord, pixel 4A, etc.) on www.flipkart.comand scrape following details for all the search results displayed on 1st page. Details to be scraped: “Brand \n",
    "Name”, “Smartphone name”, “Colour”, “RAM”, “Storage(ROM)”, “Primary Camera”, Secondary Camera”, “Display Size”, “Battery Capacity”, “Price”, “Product URL”. Incase if any of the \n",
    "details is missing then replace it by “- “. Save your results in a dataframe and CSV. "
   ]
  },
  {
   "cell_type": "code",
   "execution_count": null,
   "id": "c4dee221",
   "metadata": {},
   "outputs": [],
   "source": [
    "from selenium import webdriver\n",
    "from selenium.webdriver.chrome.options import Options\n",
    "from selenium.webdriver.support.ui import  WebDriverWait\n",
    "from selenium.webdriver.support import expected_conditions as EC\n",
    "from selenium.webdriver.common.keys import Keys\n",
    "from selenium.webdriver.common.by import By\n",
    "from bs4 import BeautifulSoup\n",
    "import pandas as pd\n",
    "import time\n",
    "\n",
    "driver = webdriver.Chrome()\n",
    "\n"
   ]
  },
  {
   "cell_type": "code",
   "execution_count": null,
   "id": "70b07daa",
   "metadata": {},
   "outputs": [],
   "source": [
    "search_query='Oneplus Nord'\n",
    "url = f\"https://www.flipkart.com/search?q={search_query}&otracker=search&otracker1=search&marketplace=FLIPKART&as-show=on&as=off\"\n",
    "# url='www.flipkart.com'\n",
    "driver.get(url)\n",
    "time.sleep(2) \n",
    "driver.maximize_window()\n",
    "# time.sleep(100)\n",
    "time.sleep(2)\n",
    "\n",
    "name=WebDriverWait(driver, 30).until(EC.visibility_of_element_located((By.XPATH,'/html/body/div/div/div[3]/div[1]/div[2]/div[2]/div/div/div/a/div[2]/div[1]'))).text\n",
    "print(name)\n",
    "for row in range(2,25):\n",
    "\tname=WebDriverWait(driver, 30).until(EC.visibility_of_element_located((By.XPATH,f'/html/body/div/div/div[3]/div[1]/div[2]/div[{row}]/div/div/div/a/div[2]/div[1]'))).text\n",
    "\tprint(name)\n",
    "\tdata=name.split('\\n')\n",
    "\tprint(data)\n",
    "\tprint('*******************************************')"
   ]
  },
  {
   "cell_type": "markdown",
   "id": "4561395b",
   "metadata": {},
   "source": [
    "## 5. Write a program to scrap geospatial coordinates (latitude, longitude) of a city searched on google maps. "
   ]
  },
  {
   "cell_type": "code",
   "execution_count": null,
   "id": "78fe8665",
   "metadata": {},
   "outputs": [],
   "source": [
    "def get_coordinates(city_name):\n",
    "    driver = webdriver.Chrome() \n",
    "    try:\n",
    "        \n",
    "        driver.get(\"https://www.google.com/maps\")\n",
    "\n",
    "        search_box = driver.find_element(By.XPATH, \"//input[@id='searchboxinput']\")\n",
    "        search_box.send_keys(city_name)\n",
    "        search_box.send_keys(Keys.RETURN)\n",
    "\n",
    "         time.sleep(5)\n",
    "\n",
    "        current_url = driver.current_url\n",
    "\n",
    "        if '@' in current_url:\n",
    "            start = current_url.find('@') + 1\n",
    "            end = current_url.find('z')\n",
    "            coordinates_str = current_url[start:end].split(',')\n",
    "\n",
    "            latitude = coordinates_str[0]\n",
    "            longitude = coordinates_str[1]\n",
    "        else:\n",
    "            latitude = '-'\n",
    "            longitude = '-'\n",
    "        \n",
    "           if not latitude:\n",
    "            latitude = '-'\n",
    "        if not longitude:\n",
    "            longitude = '-'\n",
    "\n",
    "        return latitude, longitude\n",
    "\n",
    "    except Exception as e:\n",
    "        print(f\"An error occurred: {e}\")\n",
    "        return '-', '-'\n",
    "    finally:\n",
    "        \n",
    "\n"
   ]
  },
  {
   "cell_type": "code",
   "execution_count": null,
   "id": "f237fb34",
   "metadata": {},
   "outputs": [],
   "source": [
    "driver.close()"
   ]
  },
  {
   "cell_type": "code",
   "execution_count": null,
   "id": "ac1d3d71",
   "metadata": {},
   "outputs": [],
   "source": [
    "# Example usage\n",
    "city = \"New York\"\n",
    "lat, lon = get_coordinates(city)\n",
    "print(f\"Coordinates of {city}: Latitude = {lat}, Longitude = {lon}\")"
   ]
  },
  {
   "cell_type": "markdown",
   "id": "869c242b",
   "metadata": {},
   "source": [
    "## 6. Write a program to scrap all the available details of best gaming laptops from digit.in"
   ]
  },
  {
   "cell_type": "code",
   "execution_count": null,
   "id": "52693de5",
   "metadata": {},
   "outputs": [],
   "source": []
  },
  {
   "cell_type": "code",
   "execution_count": null,
   "id": "c63e0ef9",
   "metadata": {},
   "outputs": [],
   "source": []
  },
  {
   "cell_type": "markdown",
   "id": "d5e8c5a1",
   "metadata": {},
   "source": [
    "## 7. Write a python program to scrape the details for all billionaires from www.forbes.com. Details to be scrapped: \n",
    "“Rank”, “Name”, “Net worth”, “Age”, “Citizenship”, “Source”, “Industry”. "
   ]
  },
  {
   "cell_type": "code",
   "execution_count": null,
   "id": "414b079c",
   "metadata": {},
   "outputs": [],
   "source": [
    "from selenium import webdriver\n",
    "from selenium.webdriver.chrome.options import Options\n",
    "from selenium.webdriver.support.ui import  WebDriverWait\n",
    "from selenium.webdriver.support import expected_conditions as EC\n",
    "from selenium.webdriver.common.keys import Keys\n",
    "from selenium.webdriver.common.by import By\n",
    "from bs4 import BeautifulSoup\n",
    "import pandas as pd\n",
    "import time\n",
    "\n",
    "# Set up Chrome WebDriver\n",
    "driver = webdriver.Chrome()\n",
    "search_query='Oneplus Nord'\n",
    "url = 'https://www.forbes.com/billionaires/'\n",
    "# url='www.flipkart.com'\n",
    "driver.get(url)\n",
    "time.sleep(2) \n",
    "driver.maximize_window()\n",
    "# time.sleep(100)\n",
    "time.sleep(2)\n",
    "\n",
    "name=WebDriverWait(driver, 30).until(EC.visibility_of_element_located((By.XPATH,'/html/body/div[1]/div[2]/div/div/div[3]/div[2]/div[2]'))).text\n",
    "print(name)\n",
    "for row in range(2,18):\n",
    "\tname=WebDriverWait(driver, 30).until(EC.visibility_of_element_located((By.XPATH,f'/html/body/div[1]/div[2]/div/div/div[3]/div[2]/div[2]/div/div[2]/div[1]/div[{row}]'))).text\n",
    "\tprint(name)\n",
    "\tdata=name.split('\\n')\n",
    "\tprint(data)\n",
    "\tprint('*******************************************')"
   ]
  },
  {
   "cell_type": "code",
   "execution_count": null,
   "id": "8c63cc75",
   "metadata": {},
   "outputs": [],
   "source": []
  },
  {
   "cell_type": "code",
   "execution_count": null,
   "id": "c1556664",
   "metadata": {},
   "outputs": [],
   "source": []
  },
  {
   "cell_type": "markdown",
   "id": "82a26223",
   "metadata": {},
   "source": [
    "## 8. Write a program to extract at least 500 Comments, Comment upvote and time when comment was posted from any YouTube Video. "
   ]
  },
  {
   "cell_type": "code",
   "execution_count": null,
   "id": "e4790662",
   "metadata": {},
   "outputs": [],
   "source": []
  },
  {
   "cell_type": "code",
   "execution_count": null,
   "id": "18b728f8",
   "metadata": {},
   "outputs": [],
   "source": []
  },
  {
   "cell_type": "code",
   "execution_count": null,
   "id": "be212081",
   "metadata": {},
   "outputs": [],
   "source": []
  },
  {
   "cell_type": "markdown",
   "id": "443af032",
   "metadata": {},
   "source": [
    "## 9. Write a python program to scrape a data for all available Hostels from https://www.hostelworld.com/ in “London” location. You have to scrape hostel name, distance from city centre, ratings, total reviews, overall reviews, privates from price, dorms from price, facilities and property description."
   ]
  },
  {
   "cell_type": "code",
   "execution_count": null,
   "id": "1e6d6a07",
   "metadata": {},
   "outputs": [],
   "source": [
    "#Q9  working properly\n",
    "\n",
    "from selenium import webdriver\n",
    "from selenium.webdriver.chrome.options import Options\n",
    "from selenium.webdriver.support.ui import  WebDriverWait\n",
    "from selenium.webdriver.support import expected_conditions as EC\n",
    "from selenium.webdriver.common.keys import Keys\n",
    "from selenium.webdriver.common.by import By\n",
    "from bs4 import BeautifulSoup\n",
    "import pandas as pd\n",
    "import time\n",
    "\n",
    "# Set up Chrome WebDriver\n",
    "driver = webdriver.Chrome()\n",
    "search_query='Oneplus Nord'\n",
    "url = \"https://www.hostelworld.com/pwa/wds/s?q=London,%20England&country=England&city=London&type=city&id=3&from=2024-06-05&to=2024-06-08&guests=2&page=1\"\n",
    "\n",
    "\n",
    "\n"
   ]
  },
  {
   "cell_type": "code",
   "execution_count": null,
   "id": "40921ba6",
   "metadata": {},
   "outputs": [],
   "source": [
    "# url='www.flipkart.com'\n",
    "driver.get(url)\n",
    "time.sleep(2) \n",
    "driver.maximize_window()\n",
    "# time.sleep(100)\n",
    "time.sleep(2)\n",
    "\n",
    "\n",
    "for row in range(1,31):\n",
    "    try:\n",
    "        time.sleep(1)\n",
    "        name=WebDriverWait(driver, 30).until(EC.visibility_of_element_located((By.XPATH,f'/html/body/div[3]/div/div/div[2]/div[2]/div[1]/div/div/div[5]/div[{row}]/a/a/div[2]')))\n",
    "        details=name.text\n",
    "# print(details)\n",
    "        data=details.split('\\n')\n",
    "    # print(data)\n",
    "        hostel_name=data[0]\n",
    "        distance=data[5]\n",
    "        rating=data[1]\n",
    "        total_review=data[3]\n",
    "        overall_reviwe=data[2]\n",
    "        private_form=WebDriverWait(driver, 30).until(EC.visibility_of_element_located((By.XPATH,f'/html/body/div[3]/div/div/div[2]/div[2]/div[1]/div/div/div[5]/div[{row}]/a/a/div[2]/div[4]/div/div[1]'))).text\n",
    "# print(private_form,'----------------private_form')\n",
    "        dorm_form=WebDriverWait(driver, 30).until(EC.visibility_of_element_located((By.XPATH,f'/html/body/div[3]/div/div/div[2]/div[2]/div[1]/div/div/div[5]/div[{row}]/a/a/div[2]/div[4]/div/div[2]'))).text\n",
    "# print(dorm_form,'----------dorm_form')\n",
    "        property_details=name.click()\n",
    "        time.sleep(2)\n",
    "        try:\n",
    "            property_text=WebDriverWait(driver, 30).until(EC.visibility_of_element_located((By.XPATH,'/html/body/div[3]/div/div/div[2]/section/div[10]/div/div[2]/div[6]/div/div[2]'))).text\n",
    "        except:\n",
    "            property_text=WebDriverWait(driver, 30).until(EC.visibility_of_element_located((By.XPATH,'/html/body/div[3]/div/div/div[2]/section/div[10]/div/div[2]/div[5]/div/div[2]'))).text\n",
    "            # print(property_text)\n",
    "        print(\"hostel_name- \",hostel_name)\n",
    "        print(\"distance- \",distance)\n",
    "        print(\"rating- \",rating)\n",
    "        print(\"total_review- \",total_review)\n",
    "        print(\"overall_reviwe- \",overall_reviwe)\n",
    "        print(\"private_form- \",private_form)\n",
    "        print(\"dorm_form- \",dorm_form)print(\"property_text- \",property_text)\n",
    "        driver.back()\n",
    "# data=name.split('\\n')\n",
    "# print(data)\n",
    "        print('*******************************************')\n",
    "    except:\n",
    "        pass"
   ]
  }
 ],
 "metadata": {
  "kernelspec": {
   "display_name": "Python 3 (ipykernel)",
   "language": "python",
   "name": "python3"
  },
  "language_info": {
   "codemirror_mode": {
    "name": "ipython",
    "version": 3
   },
   "file_extension": ".py",
   "mimetype": "text/x-python",
   "name": "python",
   "nbconvert_exporter": "python",
   "pygments_lexer": "ipython3",
   "version": "3.11.4"
  }
 },
 "nbformat": 4,
 "nbformat_minor": 5
}
