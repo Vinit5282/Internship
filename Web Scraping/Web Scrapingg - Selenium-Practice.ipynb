{
 "cells": [
  {
   "cell_type": "code",
   "execution_count": 1,
   "id": "d8444b64",
   "metadata": {
    "scrolled": true
   },
   "outputs": [
    {
     "name": "stdout",
     "output_type": "stream",
     "text": [
      "Collecting selenium\n",
      "  Downloading selenium-4.20.0-py3-none-any.whl.metadata (6.9 kB)\n",
      "Requirement already satisfied: urllib3<3,>=1.26 in /Users/vinitkoli/anaconda3/lib/python3.11/site-packages (from urllib3[socks]<3,>=1.26->selenium) (1.26.16)\n",
      "Collecting trio~=0.17 (from selenium)\n",
      "  Downloading trio-0.25.0-py3-none-any.whl.metadata (8.7 kB)\n",
      "Collecting trio-websocket~=0.9 (from selenium)\n",
      "  Downloading trio_websocket-0.11.1-py3-none-any.whl.metadata (4.7 kB)\n",
      "Requirement already satisfied: certifi>=2021.10.8 in /Users/vinitkoli/anaconda3/lib/python3.11/site-packages (from selenium) (2023.7.22)\n",
      "Collecting typing_extensions>=4.9.0 (from selenium)\n",
      "  Using cached typing_extensions-4.11.0-py3-none-any.whl.metadata (3.0 kB)\n",
      "Collecting attrs>=23.2.0 (from trio~=0.17->selenium)\n",
      "  Using cached attrs-23.2.0-py3-none-any.whl.metadata (9.5 kB)\n",
      "Requirement already satisfied: sortedcontainers in /Users/vinitkoli/anaconda3/lib/python3.11/site-packages (from trio~=0.17->selenium) (2.4.0)\n",
      "Requirement already satisfied: idna in /Users/vinitkoli/anaconda3/lib/python3.11/site-packages (from trio~=0.17->selenium) (3.4)\n",
      "Collecting outcome (from trio~=0.17->selenium)\n",
      "  Downloading outcome-1.3.0.post0-py2.py3-none-any.whl.metadata (2.6 kB)\n",
      "Collecting sniffio>=1.3.0 (from trio~=0.17->selenium)\n",
      "  Using cached sniffio-1.3.1-py3-none-any.whl.metadata (3.9 kB)\n",
      "Collecting wsproto>=0.14 (from trio-websocket~=0.9->selenium)\n",
      "  Downloading wsproto-1.2.0-py3-none-any.whl.metadata (5.6 kB)\n",
      "Requirement already satisfied: PySocks!=1.5.7,<2.0,>=1.5.6 in /Users/vinitkoli/anaconda3/lib/python3.11/site-packages (from urllib3[socks]<3,>=1.26->selenium) (1.7.1)\n",
      "Collecting h11<1,>=0.9.0 (from wsproto>=0.14->trio-websocket~=0.9->selenium)\n",
      "  Using cached h11-0.14.0-py3-none-any.whl.metadata (8.2 kB)\n",
      "Downloading selenium-4.20.0-py3-none-any.whl (9.5 MB)\n",
      "\u001b[2K   \u001b[90m━━━━━━━━━━━━━━━━━━━━━━━━━━━━━━━━━━━━━━━━\u001b[0m \u001b[32m9.5/9.5 MB\u001b[0m \u001b[31m10.8 MB/s\u001b[0m eta \u001b[36m0:00:00\u001b[0m00:01\u001b[0m00:01\u001b[0m\n",
      "\u001b[?25hDownloading trio-0.25.0-py3-none-any.whl (467 kB)\n",
      "\u001b[2K   \u001b[90m━━━━━━━━━━━━━━━━━━━━━━━━━━━━━━━━━━━━━━━━\u001b[0m \u001b[32m467.2/467.2 kB\u001b[0m \u001b[31m10.7 MB/s\u001b[0m eta \u001b[36m0:00:00\u001b[0ma \u001b[36m0:00:01\u001b[0m\n",
      "\u001b[?25hDownloading trio_websocket-0.11.1-py3-none-any.whl (17 kB)\n",
      "Using cached typing_extensions-4.11.0-py3-none-any.whl (34 kB)\n",
      "Using cached attrs-23.2.0-py3-none-any.whl (60 kB)\n",
      "Using cached sniffio-1.3.1-py3-none-any.whl (10 kB)\n",
      "Downloading wsproto-1.2.0-py3-none-any.whl (24 kB)\n",
      "Downloading outcome-1.3.0.post0-py2.py3-none-any.whl (10 kB)\n",
      "Using cached h11-0.14.0-py3-none-any.whl (58 kB)\n",
      "Installing collected packages: typing_extensions, sniffio, h11, attrs, wsproto, outcome, trio, trio-websocket, selenium\n",
      "  Attempting uninstall: typing_extensions\n",
      "    Found existing installation: typing_extensions 4.7.1\n",
      "    Uninstalling typing_extensions-4.7.1:\n",
      "      Successfully uninstalled typing_extensions-4.7.1\n",
      "  Attempting uninstall: sniffio\n",
      "    Found existing installation: sniffio 1.2.0\n",
      "    Uninstalling sniffio-1.2.0:\n",
      "      Successfully uninstalled sniffio-1.2.0\n",
      "  Attempting uninstall: attrs\n",
      "    Found existing installation: attrs 22.1.0\n",
      "    Uninstalling attrs-22.1.0:\n",
      "      Successfully uninstalled attrs-22.1.0\n",
      "Successfully installed attrs-23.2.0 h11-0.14.0 outcome-1.3.0.post0 selenium-4.20.0 sniffio-1.3.1 trio-0.25.0 trio-websocket-0.11.1 typing_extensions-4.11.0 wsproto-1.2.0\n"
     ]
    }
   ],
   "source": [
    "!pip install selenium"
   ]
  },
  {
   "cell_type": "code",
   "execution_count": 3,
   "id": "fb9117e9",
   "metadata": {},
   "outputs": [],
   "source": [
    "import selenium\n",
    "import pandas as pd\n",
    "from selenium import webdriver\n",
    "import warnings\n",
    "warnings.filterwarnings('ignore')\n",
    "from selenium.webdriver.common.by import By\n",
    "import time"
   ]
  },
  {
   "cell_type": "code",
   "execution_count": 5,
   "id": "229217aa",
   "metadata": {},
   "outputs": [],
   "source": [
    "driver = webdriver.Chrome()"
   ]
  },
  {
   "cell_type": "code",
   "execution_count": 6,
   "id": "b06a2959",
   "metadata": {},
   "outputs": [],
   "source": [
    "# Opening the web page \n",
    "driver.get(\"https://www.naukri.com\")"
   ]
  },
  {
   "cell_type": "code",
   "execution_count": 7,
   "id": "1f17b313",
   "metadata": {},
   "outputs": [],
   "source": [
    "designation= driver.find_element(By.CLASS_NAME,\"suggestor-input \")\n",
    "designation.send_keys('Data Analyst')"
   ]
  },
  {
   "cell_type": "code",
   "execution_count": 8,
   "id": "b8309a6a",
   "metadata": {},
   "outputs": [],
   "source": [
    "location = driver.find_element(By.XPATH,\"/html/body/div[1]/div[7]/div/div/div[5]/div/div/div/div[1]/div/input\")\n",
    "location.send_keys('Bangalore')"
   ]
  },
  {
   "cell_type": "code",
   "execution_count": 9,
   "id": "f7680d2c",
   "metadata": {},
   "outputs": [],
   "source": [
    "search = driver.find_element(By.CLASS_NAME,\"qsbSubmit\")\n",
    "search.click()"
   ]
  },
  {
   "cell_type": "code",
   "execution_count": 10,
   "id": "2530487a",
   "metadata": {},
   "outputs": [],
   "source": [
    "job_title = []\n",
    "job_location =[]\n",
    "company_name =[]\n",
    "experience_required =[]\n"
   ]
  },
  {
   "cell_type": "code",
   "execution_count": 11,
   "id": "c285f496",
   "metadata": {},
   "outputs": [],
   "source": [
    "# Scraping job title\n",
    "title_tags = driver.find_elements(By.XPATH,'//div[@class=\"cust-job-tuple layout-wrapper lay-2 sjw__tuple \"]/div/a')\n",
    "for i in title_tags:\n",
    "    title = i.text \n",
    "    job_title.append(title)\n",
    "    \n",
    "    \n",
    "location_tags = driver.find_elements(By.XPATH,'//span[@class=\"locWdth\"]')\n",
    "for i in location_tags:\n",
    "    location = i.text\n",
    "    job_location.append(location)\n",
    "    \n",
    "    \n",
    "company_tags = driver.find_elements(By.XPATH,'//div[@class=\" row2\"]/span/a[1]')\n",
    "for i in company_tags:\n",
    "    company = i.text\n",
    "    company_name.append(company)\n",
    "    \n",
    "    \n",
    "experience_tags = driver.find_elements(By.XPATH,'//span[@class=\"expwdth\"]')\n",
    "for i in experience_tags:\n",
    "    experience = i.text\n",
    "    experience_required.append(experience)"
   ]
  },
  {
   "cell_type": "code",
   "execution_count": 12,
   "id": "3db60bfe",
   "metadata": {},
   "outputs": [
    {
     "name": "stdout",
     "output_type": "stream",
     "text": [
      "20 20 20 20\n"
     ]
    }
   ],
   "source": [
    "print(len(job_title),len(job_location),len(company_name),len(experience_required))"
   ]
  },
  {
   "cell_type": "code",
   "execution_count": 13,
   "id": "f7f3811c",
   "metadata": {},
   "outputs": [
    {
     "data": {
      "text/html": [
       "<div>\n",
       "<style scoped>\n",
       "    .dataframe tbody tr th:only-of-type {\n",
       "        vertical-align: middle;\n",
       "    }\n",
       "\n",
       "    .dataframe tbody tr th {\n",
       "        vertical-align: top;\n",
       "    }\n",
       "\n",
       "    .dataframe thead th {\n",
       "        text-align: right;\n",
       "    }\n",
       "</style>\n",
       "<table border=\"1\" class=\"dataframe\">\n",
       "  <thead>\n",
       "    <tr style=\"text-align: right;\">\n",
       "      <th></th>\n",
       "      <th>Title</th>\n",
       "      <th>Location</th>\n",
       "      <th>Company_name</th>\n",
       "      <th>Experience</th>\n",
       "    </tr>\n",
       "  </thead>\n",
       "  <tbody>\n",
       "    <tr>\n",
       "      <th>0</th>\n",
       "      <td>Data Analyst</td>\n",
       "      <td>Hybrid - Bengaluru</td>\n",
       "      <td>Naukri Premium - Employer Services</td>\n",
       "      <td>3-5 Yrs</td>\n",
       "    </tr>\n",
       "    <tr>\n",
       "      <th>1</th>\n",
       "      <td>Data Analyst</td>\n",
       "      <td>Bengaluru</td>\n",
       "      <td>Freshmenu</td>\n",
       "      <td>3-7 Yrs</td>\n",
       "    </tr>\n",
       "    <tr>\n",
       "      <th>2</th>\n",
       "      <td>Data Analyst</td>\n",
       "      <td>Bengaluru</td>\n",
       "      <td>Clairvoyant India Pvt. Ltd</td>\n",
       "      <td>3-5 Yrs</td>\n",
       "    </tr>\n",
       "    <tr>\n",
       "      <th>3</th>\n",
       "      <td>Data Analyst</td>\n",
       "      <td>Bengaluru</td>\n",
       "      <td>Quation Solutions</td>\n",
       "      <td>3-8 Yrs</td>\n",
       "    </tr>\n",
       "    <tr>\n",
       "      <th>4</th>\n",
       "      <td>Data Analyst</td>\n",
       "      <td>Bengaluru</td>\n",
       "      <td>Deep Cognition India</td>\n",
       "      <td>2-3 Yrs</td>\n",
       "    </tr>\n",
       "    <tr>\n",
       "      <th>5</th>\n",
       "      <td>Data Analyst</td>\n",
       "      <td>Bengaluru</td>\n",
       "      <td>Valenta Bpo Solutions</td>\n",
       "      <td>4-5 Yrs</td>\n",
       "    </tr>\n",
       "    <tr>\n",
       "      <th>6</th>\n",
       "      <td>Data Analyst</td>\n",
       "      <td>Hybrid - Bengaluru</td>\n",
       "      <td>Silicon Valley Bank</td>\n",
       "      <td>4-8 Yrs</td>\n",
       "    </tr>\n",
       "    <tr>\n",
       "      <th>7</th>\n",
       "      <td>Item Data Analyst</td>\n",
       "      <td>Bengaluru</td>\n",
       "      <td>Hudsons bay Company (HBC)</td>\n",
       "      <td>1-2 Yrs</td>\n",
       "    </tr>\n",
       "    <tr>\n",
       "      <th>8</th>\n",
       "      <td>Data Analyst</td>\n",
       "      <td>Bangalore Rural</td>\n",
       "      <td>Two95 International Staffing Services</td>\n",
       "      <td>5-10 Yrs</td>\n",
       "    </tr>\n",
       "    <tr>\n",
       "      <th>9</th>\n",
       "      <td>Alteryx Data Analyst</td>\n",
       "      <td>Hyderabad, Pune, Bengaluru</td>\n",
       "      <td>ALOIS Solutions</td>\n",
       "      <td>5-10 Yrs</td>\n",
       "    </tr>\n",
       "    <tr>\n",
       "      <th>10</th>\n",
       "      <td>Data Analyst</td>\n",
       "      <td>Bangalore Rural</td>\n",
       "      <td>Two95 International Staffing Services</td>\n",
       "      <td>7-12 Yrs</td>\n",
       "    </tr>\n",
       "    <tr>\n",
       "      <th>11</th>\n",
       "      <td>Data Analyst</td>\n",
       "      <td>Bengaluru</td>\n",
       "      <td>Kaplan Test Prep</td>\n",
       "      <td>2-4 Yrs</td>\n",
       "    </tr>\n",
       "    <tr>\n",
       "      <th>12</th>\n",
       "      <td>Data Analyst</td>\n",
       "      <td>Remote</td>\n",
       "      <td>Askmeoffers</td>\n",
       "      <td>0-5 Yrs</td>\n",
       "    </tr>\n",
       "    <tr>\n",
       "      <th>13</th>\n",
       "      <td>Material Data Analyst</td>\n",
       "      <td>Bengaluru</td>\n",
       "      <td>Becton Dickinson</td>\n",
       "      <td>5-10 Yrs</td>\n",
       "    </tr>\n",
       "    <tr>\n",
       "      <th>14</th>\n",
       "      <td>Data Analyst</td>\n",
       "      <td>Bengaluru</td>\n",
       "      <td>ANZ</td>\n",
       "      <td>1-5 Yrs</td>\n",
       "    </tr>\n",
       "    <tr>\n",
       "      <th>15</th>\n",
       "      <td>Data Analyst</td>\n",
       "      <td>Bengaluru</td>\n",
       "      <td>Spotnana</td>\n",
       "      <td>3-6 Yrs</td>\n",
       "    </tr>\n",
       "    <tr>\n",
       "      <th>16</th>\n",
       "      <td>Data Analyst</td>\n",
       "      <td>Bengaluru</td>\n",
       "      <td>Merritt Innovative Solutions</td>\n",
       "      <td>2-4 Yrs</td>\n",
       "    </tr>\n",
       "    <tr>\n",
       "      <th>17</th>\n",
       "      <td>Data Analyst</td>\n",
       "      <td>Hybrid - Pune, Bengaluru</td>\n",
       "      <td>Hiring for Data Analyst</td>\n",
       "      <td>7-12 Yrs</td>\n",
       "    </tr>\n",
       "    <tr>\n",
       "      <th>18</th>\n",
       "      <td>Data Analyst</td>\n",
       "      <td>Bengaluru</td>\n",
       "      <td>Collabera</td>\n",
       "      <td>5-10 Yrs</td>\n",
       "    </tr>\n",
       "    <tr>\n",
       "      <th>19</th>\n",
       "      <td>Data Analyst 987</td>\n",
       "      <td>Bengaluru</td>\n",
       "      <td>Protiviti India</td>\n",
       "      <td>4-6 Yrs</td>\n",
       "    </tr>\n",
       "  </tbody>\n",
       "</table>\n",
       "</div>"
      ],
      "text/plain": [
       "                    Title                    Location  \\\n",
       "0            Data Analyst          Hybrid - Bengaluru   \n",
       "1            Data Analyst                   Bengaluru   \n",
       "2            Data Analyst                   Bengaluru   \n",
       "3            Data Analyst                   Bengaluru   \n",
       "4            Data Analyst                   Bengaluru   \n",
       "5            Data Analyst                   Bengaluru   \n",
       "6            Data Analyst          Hybrid - Bengaluru   \n",
       "7       Item Data Analyst                   Bengaluru   \n",
       "8            Data Analyst             Bangalore Rural   \n",
       "9    Alteryx Data Analyst  Hyderabad, Pune, Bengaluru   \n",
       "10           Data Analyst             Bangalore Rural   \n",
       "11           Data Analyst                   Bengaluru   \n",
       "12           Data Analyst                      Remote   \n",
       "13  Material Data Analyst                   Bengaluru   \n",
       "14           Data Analyst                   Bengaluru   \n",
       "15           Data Analyst                   Bengaluru   \n",
       "16           Data Analyst                   Bengaluru   \n",
       "17           Data Analyst    Hybrid - Pune, Bengaluru   \n",
       "18           Data Analyst                   Bengaluru   \n",
       "19       Data Analyst 987                   Bengaluru   \n",
       "\n",
       "                             Company_name Experience  \n",
       "0      Naukri Premium - Employer Services    3-5 Yrs  \n",
       "1                               Freshmenu    3-7 Yrs  \n",
       "2              Clairvoyant India Pvt. Ltd    3-5 Yrs  \n",
       "3                       Quation Solutions    3-8 Yrs  \n",
       "4                    Deep Cognition India    2-3 Yrs  \n",
       "5                   Valenta Bpo Solutions    4-5 Yrs  \n",
       "6                     Silicon Valley Bank    4-8 Yrs  \n",
       "7               Hudsons bay Company (HBC)    1-2 Yrs  \n",
       "8   Two95 International Staffing Services   5-10 Yrs  \n",
       "9                         ALOIS Solutions   5-10 Yrs  \n",
       "10  Two95 International Staffing Services   7-12 Yrs  \n",
       "11                       Kaplan Test Prep    2-4 Yrs  \n",
       "12                            Askmeoffers    0-5 Yrs  \n",
       "13                       Becton Dickinson   5-10 Yrs  \n",
       "14                                    ANZ    1-5 Yrs  \n",
       "15                               Spotnana    3-6 Yrs  \n",
       "16           Merritt Innovative Solutions    2-4 Yrs  \n",
       "17                Hiring for Data Analyst   7-12 Yrs  \n",
       "18                              Collabera   5-10 Yrs  \n",
       "19                        Protiviti India    4-6 Yrs  "
      ]
     },
     "execution_count": 13,
     "metadata": {},
     "output_type": "execute_result"
    }
   ],
   "source": [
    "import pandas as pd \n",
    "df = pd.DataFrame({'Title':job_title,'Location':job_location,'Company_name':company_name,'Experience':experience_required})\n",
    "df\n",
    "\n"
   ]
  },
  {
   "cell_type": "code",
   "execution_count": 29,
   "id": "db9d7c9d",
   "metadata": {},
   "outputs": [
    {
     "data": {
      "text/plain": [
       "[<selenium.webdriver.remote.webelement.WebElement (session=\"69b95326aac8d6e2566ab449da28ced1\", element=\"f.4604C873BAE5607CB761C264C6043715.d.C29B4A0D615357051D1645B2117634E4.e.4171\")>,\n",
       " <selenium.webdriver.remote.webelement.WebElement (session=\"69b95326aac8d6e2566ab449da28ced1\", element=\"f.4604C873BAE5607CB761C264C6043715.d.C29B4A0D615357051D1645B2117634E4.e.4178\")>,\n",
       " <selenium.webdriver.remote.webelement.WebElement (session=\"69b95326aac8d6e2566ab449da28ced1\", element=\"f.4604C873BAE5607CB761C264C6043715.d.C29B4A0D615357051D1645B2117634E4.e.4186\")>,\n",
       " <selenium.webdriver.remote.webelement.WebElement (session=\"69b95326aac8d6e2566ab449da28ced1\", element=\"f.4604C873BAE5607CB761C264C6043715.d.C29B4A0D615357051D1645B2117634E4.e.6288\")>]"
      ]
     },
     "execution_count": 29,
     "metadata": {},
     "output_type": "execute_result"
    }
   ],
   "source": [
    "# Fetching the url \n",
    "url=driver.find_elements(By.XPATH,'//a[@class=\"title \"]') \n",
    "url[0:4]"
   ]
  },
  {
   "cell_type": "code",
   "execution_count": 31,
   "id": "3871b1b4",
   "metadata": {
    "scrolled": true
   },
   "outputs": [
    {
     "name": "stdout",
     "output_type": "stream",
     "text": [
      "https://www.naukri.com/job-listings-data-analyst-naukri-employer-services-bengaluru-3-to-5-years-080524006745\n",
      "https://www.naukri.com/job-listings-data-analyst-freshmenu-bengaluru-3-to-7-years-030524007905\n",
      "https://www.naukri.com/job-listings-data-analyst-clairvoyant-india-pvt-ltd-bengaluru-3-to-5-years-230424500186\n",
      "None\n"
     ]
    }
   ],
   "source": [
    "for i in url[0:4]:\n",
    "    print(i.get_attribute('href'))"
   ]
  },
  {
   "cell_type": "code",
   "execution_count": 32,
   "id": "40357196",
   "metadata": {},
   "outputs": [],
   "source": [
    "# For Scraping more than one pages \n",
    "\n",
    "job_titles=[]\n"
   ]
  },
  {
   "cell_type": "code",
   "execution_count": 34,
   "id": "8a9fcb1a",
   "metadata": {},
   "outputs": [],
   "source": [
    "start = 0\n",
    "end = 5 \n",
    "for page in range (start,end):\n",
    "    titles = driver.find_elements(By.XPATH,'//div[@class=\"cust-job-tuple layout-wrapper lay-2 sjw__tuple \"]/div/a')\n",
    "    for i in titles:\n",
    "        job_titles.append(i.text)\n",
    "    next_button= driver.find_element(By.XPATH,'/html/body/div/div/main/div[1]/div[2]/div[3]/div/a[2]')\n",
    "    next_button.click()\n",
    "    time.sleep(3)"
   ]
  },
  {
   "cell_type": "code",
   "execution_count": 37,
   "id": "5accd2cf",
   "metadata": {},
   "outputs": [
    {
     "name": "stdout",
     "output_type": "stream",
     "text": [
      "100\n"
     ]
    }
   ],
   "source": [
    "print(len(job_titles))"
   ]
  },
  {
   "cell_type": "code",
   "execution_count": 38,
   "id": "3e54e555",
   "metadata": {
    "scrolled": true
   },
   "outputs": [
    {
     "data": {
      "text/plain": [
       "['Data Analyst',\n",
       " 'Data Analyst',\n",
       " 'Data Analyst',\n",
       " 'Data Analyst',\n",
       " 'Data Analyst',\n",
       " 'Data Analyst',\n",
       " 'Data Analyst',\n",
       " 'Item Data Analyst',\n",
       " 'Data Analyst',\n",
       " 'Alteryx Data Analyst',\n",
       " 'Data Analyst',\n",
       " 'Data Analyst',\n",
       " 'Data Analyst',\n",
       " 'Material Data Analyst',\n",
       " 'Data Analyst',\n",
       " 'Data Analyst',\n",
       " 'Data Analyst',\n",
       " 'Data Analyst',\n",
       " 'Data Analyst',\n",
       " 'Data Analyst 987',\n",
       " 'Data Analyst',\n",
       " 'Data Analyst - Communication Equipment Domain',\n",
       " 'Data Ops Analyst (R50024150)',\n",
       " 'Data Governance Analyst (R50024143)',\n",
       " 'Data Analyst Immediate openings_Bangalore',\n",
       " 'Data Analyst (New)',\n",
       " 'Data Analyst',\n",
       " 'Data Analyst',\n",
       " 'Data Analyst',\n",
       " 'Data Analyst',\n",
       " 'Data Analyst',\n",
       " 'Data Analyst',\n",
       " 'Data Analyst',\n",
       " 'Data Analyst',\n",
       " 'Data Analyst (Tableau)',\n",
       " 'Data Analyst - Aviation',\n",
       " 'Data Analyst',\n",
       " 'Data Analyst',\n",
       " 'Procurement Data analyst',\n",
       " 'Data Analyst',\n",
       " 'data analyst',\n",
       " 'Data Analyst',\n",
       " 'Data Engineer & Analyst',\n",
       " 'Data Engineer & Analyst',\n",
       " 'Data Analyst',\n",
       " 'Data Analyst',\n",
       " 'Data Analyst',\n",
       " 'DATA ANALYST',\n",
       " 'Data Analyst',\n",
       " 'Data Analyst',\n",
       " 'Data Analyst',\n",
       " 'Data Analyst',\n",
       " 'Data Analyst',\n",
       " 'Data Analyst',\n",
       " 'Payer Data Analyst',\n",
       " 'Data Analyst',\n",
       " 'Data Analyst',\n",
       " 'Data Analyst',\n",
       " 'Data Analyst',\n",
       " 'Data Analyst',\n",
       " 'Data Analyst',\n",
       " 'Data Analyst',\n",
       " 'Data Analyst',\n",
       " 'Data Analyst',\n",
       " 'Data Privacy Analyst',\n",
       " 'Data Analyst',\n",
       " 'FHIR Data Analyst',\n",
       " 'Data Analyst -M&T',\n",
       " 'Data Analyst',\n",
       " 'Data Analyst',\n",
       " 'Data Analyst',\n",
       " 'Data Analyst',\n",
       " 'Data Analyst - X Delivery',\n",
       " 'Data Analyst',\n",
       " 'Online Data Analyst',\n",
       " 'Data Analyst | Bangalore Location',\n",
       " 'Python,Java, NoSQL,Data analyst',\n",
       " 'Industrial Iot Data Analyst',\n",
       " 'Data Analyst',\n",
       " 'Staff Data Analyst - JioCinema',\n",
       " 'Data Analyst',\n",
       " 'IAM DATA SCIENTIST /ANALYST',\n",
       " 'Data Analyst',\n",
       " 'Platform Data Analyst',\n",
       " 'Material Data Analyst',\n",
       " 'Data Analyst',\n",
       " 'Data Analyst',\n",
       " 'Data Analyst',\n",
       " 'Data Analysts',\n",
       " 'Data Analyst',\n",
       " 'Data Analyst',\n",
       " 'Data Analyst',\n",
       " 'Data Analyst',\n",
       " 'FP&A Data Analyst',\n",
       " 'Data Analyst Data Classification & Attestation',\n",
       " 'Data Analyst Data Classification & Attestation',\n",
       " 'Data Analyst',\n",
       " 'Data Analyst',\n",
       " 'Payer Data Analyst',\n",
       " 'Data Analyst']"
      ]
     },
     "execution_count": 38,
     "metadata": {},
     "output_type": "execute_result"
    }
   ],
   "source": [
    "job_titles"
   ]
  },
  {
   "cell_type": "code",
   "execution_count": null,
   "id": "b83ce6b7",
   "metadata": {},
   "outputs": [],
   "source": []
  }
 ],
 "metadata": {
  "kernelspec": {
   "display_name": "Python 3 (ipykernel)",
   "language": "python",
   "name": "python3"
  },
  "language_info": {
   "codemirror_mode": {
    "name": "ipython",
    "version": 3
   },
   "file_extension": ".py",
   "mimetype": "text/x-python",
   "name": "python",
   "nbconvert_exporter": "python",
   "pygments_lexer": "ipython3",
   "version": "3.11.5"
  }
 },
 "nbformat": 4,
 "nbformat_minor": 5
}
