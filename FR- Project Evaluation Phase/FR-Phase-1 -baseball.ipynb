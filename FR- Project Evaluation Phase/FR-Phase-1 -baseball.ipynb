{
 "cells": [
  {
   "cell_type": "markdown",
   "metadata": {},
   "source": [
    "Import Libraries"
   ]
  },
  {
   "cell_type": "code",
   "execution_count": 11,
   "metadata": {},
   "outputs": [],
   "source": [
    "import pandas as pd\n",
    "import numpy as np\n",
    "import matplotlib.pyplot as plt\n",
    "from sklearn.model_selection import train_test_split\n",
    "from sklearn.preprocessing import StandardScaler\n",
    "from sklearn.linear_model import LinearRegression\n",
    "from sklearn.ensemble import RandomForestRegressor\n",
    "from sklearn.metrics import mean_squared_error, r2_score\n",
    "import pickle"
   ]
  },
  {
   "cell_type": "markdown",
   "metadata": {},
   "source": [
    "Load the dataset\n"
   ]
  },
  {
   "cell_type": "code",
   "execution_count": 2,
   "metadata": {},
   "outputs": [
    {
     "name": "stdout",
     "output_type": "stream",
     "text": [
      "    W    R    AB     H   2B  3B   HR   BB    SO   SB   RA   ER   ERA  CG  SHO  \\\n",
      "0  95  724  5575  1497  300  42  139  383   973  104  641  601  3.73   2    8   \n",
      "1  83  696  5467  1349  277  44  156  439  1264   70  700  653  4.07   2   12   \n",
      "2  81  669  5439  1395  303  29  141  533  1157   86  640  584  3.67  11   10   \n",
      "3  76  622  5533  1381  260  27  136  404  1231   68  701  643  3.98   7    9   \n",
      "4  74  689  5605  1515  289  49  151  455  1259   83  803  746  4.64   7   12   \n",
      "\n",
      "   SV    E  \n",
      "0  56   88  \n",
      "1  45   86  \n",
      "2  38   79  \n",
      "3  37  101  \n",
      "4  35   86  \n"
     ]
    }
   ],
   "source": [
    "data = pd.read_csv('baseball (1).csv')\n",
    "\n",
    "print(data.head())"
   ]
  },
  {
   "cell_type": "markdown",
   "metadata": {},
   "source": [
    "Dropping Column"
   ]
  },
  {
   "cell_type": "code",
   "execution_count": 3,
   "metadata": {},
   "outputs": [],
   "source": [
    "X = data.drop(columns=['W'])  \n",
    "y = data['W']  "
   ]
  },
  {
   "cell_type": "markdown",
   "metadata": {},
   "source": [
    "Train Test Split"
   ]
  },
  {
   "cell_type": "code",
   "execution_count": 4,
   "metadata": {},
   "outputs": [],
   "source": [
    "X_train, X_test, y_train, y_test = train_test_split(X, y, test_size=0.2, random_state=42)"
   ]
  },
  {
   "cell_type": "code",
   "execution_count": 5,
   "metadata": {},
   "outputs": [],
   "source": [
    "scaler = StandardScaler()\n",
    "X_train_scaled = scaler.fit_transform(X_train)\n",
    "X_test_scaled = scaler.transform(X_test)"
   ]
  },
  {
   "cell_type": "markdown",
   "metadata": {},
   "source": [
    "Training model using Linear Regression and model Evaluation"
   ]
  },
  {
   "cell_type": "code",
   "execution_count": 6,
   "metadata": {},
   "outputs": [
    {
     "name": "stdout",
     "output_type": "stream",
     "text": [
      "Linear Regression with Scaling MSE: 27.94303250666785\n",
      "Linear Regression with Scaling R^2: 0.7876400316149371\n"
     ]
    }
   ],
   "source": [
    "lr_model_scaled = LinearRegression()\n",
    "lr_model_scaled.fit(X_train_scaled, y_train)\n",
    "\n",
    "y_pred_lr_scaled = lr_model_scaled.predict(X_test_scaled)\n",
    "\n",
    "mse_lr_scaled = mean_squared_error(y_test, y_pred_lr_scaled)\n",
    "r2_lr_scaled = r2_score(y_test, y_pred_lr_scaled)\n",
    "\n",
    "print(f'Linear Regression with Scaling MSE: {mse_lr_scaled}')\n",
    "print(f'Linear Regression with Scaling R^2: {r2_lr_scaled}')\n"
   ]
  },
  {
   "cell_type": "code",
   "execution_count": 7,
   "metadata": {},
   "outputs": [
    {
     "name": "stdout",
     "output_type": "stream",
     "text": [
      "Random Forest with Scaling MSE: 52.0209166666667\n",
      "Random Forest with Scaling R^2: 0.6046542115262822\n"
     ]
    }
   ],
   "source": [
    "rf_model_scaled = RandomForestRegressor(random_state=42)\n",
    "rf_model_scaled.fit(X_train_scaled, y_train)\n",
    "\n",
    "y_pred_rf_scaled = rf_model_scaled.predict(X_test_scaled)\n",
    "\n",
    "mse_rf_scaled = mean_squared_error(y_test, y_pred_rf_scaled)\n",
    "r2_rf_scaled = r2_score(y_test, y_pred_rf_scaled)\n",
    "\n",
    "print(f'Random Forest with Scaling MSE: {mse_rf_scaled}')\n",
    "print(f'Random Forest with Scaling R^2: {r2_rf_scaled}')\n"
   ]
  },
  {
   "cell_type": "code",
   "execution_count": 10,
   "metadata": {},
   "outputs": [
    {
     "name": "stdout",
     "output_type": "stream",
     "text": [
      "Linear Regression - MSE: 27.94303250666785, R^2: 0.7876400316149371\n",
      "Random Forest - MSE: 52.0209166666667, R^2: 0.6046542115262822\n"
     ]
    }
   ],
   "source": [
    "print(f'Linear Regression - MSE: {mse_lr_scaled}, R^2: {r2_lr_scaled}')\n",
    "print(f'Random Forest - MSE: {mse_rf_scaled}, R^2: {r2_rf_scaled}')\n"
   ]
  },
  {
   "cell_type": "markdown",
   "metadata": {},
   "source": [
    "Since Linear Regression is giving better performance we go ahead with this model\n"
   ]
  },
  {
   "cell_type": "code",
   "execution_count": 12,
   "metadata": {},
   "outputs": [],
   "source": [
    "with open('linear_regression_model.pkl', 'wb') as model_file:\n",
    "    pickle.dump(lr_model_scaled, model_file)\n",
    "\n",
    "with open('scaler.pkl', 'wb') as scaler_file:\n",
    "    pickle.dump(scaler, scaler_file)\n"
   ]
  },
  {
   "cell_type": "code",
   "execution_count": 13,
   "metadata": {},
   "outputs": [
    {
     "name": "stdout",
     "output_type": "stream",
     "text": [
      "[ 82.87055379 101.01861025  69.42504558  93.71375515  91.5547615\n",
      "  79.20277886]\n"
     ]
    }
   ],
   "source": [
    "with open('linear_regression_model.pkl', 'rb') as model_file:\n",
    "    loaded_model = pickle.load(model_file)\n",
    "\n",
    "with open('scaler.pkl', 'rb') as scaler_file:\n",
    "    loaded_scaler = pickle.load(scaler_file)\n",
    "\n",
    "new_data_scaled = loaded_scaler.transform(X_test)  \n",
    "predictions = loaded_model.predict(new_data_scaled)\n",
    "print(predictions)\n"
   ]
  }
 ],
 "metadata": {
  "kernelspec": {
   "display_name": "Python 3 (ipykernel)",
   "language": "python",
   "name": "python3"
  },
  "language_info": {
   "codemirror_mode": {
    "name": "ipython",
    "version": 3
   },
   "file_extension": ".py",
   "mimetype": "text/x-python",
   "name": "python",
   "nbconvert_exporter": "python",
   "pygments_lexer": "ipython3",
   "version": "3.11.5"
  }
 },
 "nbformat": 4,
 "nbformat_minor": 2
}
