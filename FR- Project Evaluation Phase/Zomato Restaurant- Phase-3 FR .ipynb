{
 "cells": [
  {
   "cell_type": "code",
   "execution_count": null,
   "id": "1dfff9ec",
   "metadata": {},
   "outputs": [],
   "source": [
    "import pandas as pd\n",
    "import numpy as np\n",
    "import seaborn as sns\n",
    "import matplotlib.pyplot as plt\n",
    "from sklearn.model_selection import train_test_split\n",
    "from sklearn.preprocessing import LabelEncoder\n",
    "from sklearn.ensemble import RandomForestRegressor, RandomForestClassifier\n",
    "from sklearn.metrics import mean_squared_error, classification_report"
   ]
  },
  {
   "cell_type": "code",
   "execution_count": null,
   "id": "9e653538",
   "metadata": {},
   "outputs": [],
   "source": [
    "# Load datasets\n",
    "zomato_data = pd.read_csv('https://raw.githubusercontent.com/dsrscientist/dataset4/main/zomato.csv', encoding='latin-1')\n",
    "country_data = pd.read_csv('https://raw.githubusercontent.com/dsrscientist/dataset4/main/country_code.csv')\n"
   ]
  },
  {
   "cell_type": "code",
   "execution_count": null,
   "id": "9f8873b6",
   "metadata": {},
   "outputs": [],
   "source": [
    "# Merge datasets\n",
    "data = pd.merge(zomato_data, country_data, on='Country Code', how='left')"
   ]
  },
  {
   "cell_type": "code",
   "execution_count": null,
   "id": "bab641ee",
   "metadata": {},
   "outputs": [],
   "source": [
    "# Display the first few rows of the combined dataset\n",
    "print(data.head())\n",
    "\n",
    "# Data Preprocessing\n",
    "# Check for missing values\n",
    "print(data.isnull().sum())"
   ]
  },
  {
   "cell_type": "code",
   "execution_count": null,
   "id": "24e62063",
   "metadata": {},
   "outputs": [],
   "source": [
    "# Dropping irrelevant columns and rows with missing values\n",
    "data.drop(columns=['Restaurant Id', 'Restaurant Name', 'Address', 'Locality Verbose', 'Longitude', 'Latitude', 'Currency'], inplace=True)\n",
    "data.dropna(inplace=True)"
   ]
  },
  {
   "cell_type": "code",
   "execution_count": null,
   "id": "40455001",
   "metadata": {},
   "outputs": [],
   "source": [
    "# Convert 'Average Cost for two' to numeric\n",
    "data['Average Cost for two'] = pd.to_numeric(data['Average Cost for two'], errors='coerce')\n"
   ]
  },
  {
   "cell_type": "code",
   "execution_count": null,
   "id": "0f3f112a",
   "metadata": {},
   "outputs": [],
   "source": [
    "# Encode categorical variables\n",
    "label_encoders = {}\n",
    "for column in ['City', 'Cuisines', 'Country']:\n",
    "    le = LabelEncoder()\n",
    "    data[column] = le.fit_transform(data[column].astype(str))\n",
    "    label_encoders[column] = le\n"
   ]
  },
  {
   "cell_type": "code",
   "execution_count": null,
   "id": "1b3c815c",
   "metadata": {},
   "outputs": [],
   "source": [
    "# Define features and target variables for regression and classification\n",
    "X = data.drop(columns=['Average Cost for two', 'Price range'])\n",
    "y_cost = data['Average Cost for two']\n",
    "y_price = data['Price range']"
   ]
  },
  {
   "cell_type": "code",
   "execution_count": null,
   "id": "2a351964",
   "metadata": {},
   "outputs": [],
   "source": [
    "# Splitting the data into training and testing sets\n",
    "X_train, X_test, y_train_cost, y_test_cost = train_test_split(X, y_cost, test_size=0.2, random_state=42)\n",
    "X_train_price, X_test_price, y_train_price, y_test_price = train_test_split(X, y_price, test_size=0.2, random_state=42)\n"
   ]
  },
  {
   "cell_type": "code",
   "execution_count": null,
   "id": "2c6bde67",
   "metadata": {},
   "outputs": [],
   "source": [
    "# Model for predicting Average Cost for two\n",
    "rf_cost = RandomForestRegressor(n_estimators=100, random_state=42)\n",
    "rf_cost.fit(X_train, y_train_cost)\n",
    "cost_predictions = rf_cost.predict(X_test)\n"
   ]
  },
  {
   "cell_type": "code",
   "execution_count": null,
   "id": "b6423e16",
   "metadata": {},
   "outputs": [],
   "source": [
    "# Evaluate regression model\n",
    "print(\"Mean Squared Error for Average Cost for two:\", mean_squared_error(y_test_cost, cost_predictions))\n",
    "\n",
    "# Model for predicting Price range\n",
    "rf_price = RandomForestClassifier(n_estimators=100, random_state=42)\n",
    "rf_price.fit(X_train_price, y_train_price)\n",
    "price_predictions = rf_price.predict(X_test_price)"
   ]
  },
  {
   "cell_type": "code",
   "execution_count": null,
   "id": "872a8de3",
   "metadata": {},
   "outputs": [],
   "source": [
    "# Evaluate classification model\n",
    "print(\"Classification Report for Price range:\\n\", classification_report(y_test_price, price_predictions))"
   ]
  },
  {
   "cell_type": "code",
   "execution_count": null,
   "id": "5417d903",
   "metadata": {},
   "outputs": [],
   "source": [
    "# Visualizing the feature importance for Average Cost prediction\n",
    "feature_importances = rf_cost.feature_importances_\n",
    "features = X.columns\n",
    "importance_df = pd.DataFrame({'Feature': features, 'Importance': feature_importances}).sort_values(by='Importance', ascending=False)\n"
   ]
  },
  {
   "cell_type": "code",
   "execution_count": null,
   "id": "78dc84b1",
   "metadata": {},
   "outputs": [],
   "source": [
    "plt.figure(figsize=(12, 6))\n",
    "sns.barplot(x='Importance', y='Feature', data=importance_df)\n",
    "plt.title('Feature Importance for Average Cost Prediction')\n",
    "plt.show()\n"
   ]
  }
 ],
 "metadata": {
  "kernelspec": {
   "display_name": "Python 3 (ipykernel)",
   "language": "python",
   "name": "python3"
  },
  "language_info": {
   "codemirror_mode": {
    "name": "ipython",
    "version": 3
   },
   "file_extension": ".py",
   "mimetype": "text/x-python",
   "name": "python",
   "nbconvert_exporter": "python",
   "pygments_lexer": "ipython3",
   "version": "3.11.4"
  }
 },
 "nbformat": 4,
 "nbformat_minor": 5
}
